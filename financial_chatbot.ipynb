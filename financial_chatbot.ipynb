{
 "cells": [
  {
   "cell_type": "code",
   "id": "initial_id",
   "metadata": {
    "collapsed": true,
    "ExecuteTime": {
     "end_time": "2024-08-11T03:27:48.435892Z",
     "start_time": "2024-08-11T03:26:56.648423Z"
    }
   },
   "source": [
    "import chatbot\n",
    "chatbot.main()\n"
   ],
   "outputs": [
    {
     "name": "stdout",
     "output_type": "stream",
     "text": [
      "최윤호님의 다양한 소비 패턴을 고려하여 KB국민카드 중 하나인 KB국민체크카드를 추천드립니다. 이 카드는 다양한 업종에서 혜택을 받을 수 있는 카드로, 국민카드 멤버십 포인트 적립 혜택과 다양한 할인 혜택을 제공합니다. 또한 국내 외 다양한 혜택을 즐길 수 있어서 국내외 여행 및 엔터테인먼트 소비에도 유용하게 활용할 수 있습니다. 또한 국민카드 결제금액에 따라 캐시백 혜택도 받을 수 있어서 소비자로서 다양한 혜택을 누릴 수 있습니다. 이와 같은 다양한 소비 패턴을 고려할 때 KB국민체크카드를 추천해드립니다.\n",
      "주어진 소비 패턴에 기반하여 KB국민카드 중에서는 KB국민 노블 카드를 추천해드릴 수 있습니다. KB국민 노블 카드는 다양한 카테고리에서 적립 및 할인 혜택을 제공하여 다양한 소비 패턴에 맞게 혜택을 받을 수 있는 카드입니다.\n",
      "\n",
      "주요 혜택 및 특징은 다음과 같습니다:\n",
      "- 국내/해외 최대 20% 캐시백 제공\n",
      "- 항공 마일리지 적립 및 라운지 이용 혜택\n",
      "- 스타벅스 및 CGV 할인 혜택\n",
      "- 해외 도서, 패션 쇼핑 할인 혜택\n",
      "- 다양한 카테고리별 적립 및 할인 혜택 제공\n",
      "\n",
      "소비 패턴 중 영화, 음식, 엔터테인먼트, 여행, 교육 등 다양한 카테고리에서 지출이 있으므로 KB국민 노블 카드를 통해 이러한 소비 패턴에 대한 혜택을 최대화할 수 있을 것입니다.\n",
      "최윤호 고객과 소득 수준이 비슷한 다른 고객들의 소비 데이터를 분석해 보겠습니다.\n",
      "\n",
      "최윤호 고객의 소득 수준은 78이며, 총 소비한 금액은 27,810,323입니다. 그와 비슷한 소득 수준을 가진 고객들을 살펴봅시다.\n",
      "\n",
      "1. {\"name\": \"이시우\", \"age\": 23, \"gender\": \"M\", \"tot_consume_sum\": 26,837,195, \"income\": 32}\n",
      "2. {\"name\": \"박가은\", \"age\": 23, \"gender\": \"F\", \"tot_consume_sum\": 26,272,752, \"income\": 75}\n",
      "3. {\"name\": \"장이묽\", \"age\": 23, \"gender\": \"M\", \"tot_consume_sum\": 23,501,345, \"income\": 84}\n",
      "\n",
      "위 세 명의 고객이 최윤호 고객과 소득 수준이 비슷한 고객들입니다. 각각의 고객들의 소비 데이터를 자세히 살펴보고 비슷한 소비 양상이 있는지 확인해 보세요. 이를 통해 최윤호 고객이나 유사 소득 수준의 다른 고객들이 어떤 상품이나 서비스에 관심이 있을 수 있는지 예측할 수 있을 것입니다. 언제든지 추가적인 도움이 필요하시면 말씀해 주세요.\n",
      "최윤호님의 이번 달 소비 내역은 다음과 같습니다:\n",
      "기타: 27810323원\n",
      "\n",
      "대화를 종료합니다.\n"
     ]
    }
   ],
   "execution_count": 2
  },
  {
   "metadata": {},
   "cell_type": "code",
   "outputs": [],
   "execution_count": null,
   "source": "",
   "id": "b1646ea9e38fccdc"
  }
 ],
 "metadata": {
  "kernelspec": {
   "display_name": "Python 3",
   "language": "python",
   "name": "python3"
  },
  "language_info": {
   "codemirror_mode": {
    "name": "ipython",
    "version": 2
   },
   "file_extension": ".py",
   "mimetype": "text/x-python",
   "name": "python",
   "nbconvert_exporter": "python",
   "pygments_lexer": "ipython2",
   "version": "2.7.6"
  }
 },
 "nbformat": 4,
 "nbformat_minor": 5
}
